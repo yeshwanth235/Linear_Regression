{
 "cells": [
  {
   "cell_type": "code",
   "execution_count": 8,
   "id": "52d58831",
   "metadata": {},
   "outputs": [
    {
     "data": {
      "text/html": [
       "<div>\n",
       "<style scoped>\n",
       "    .dataframe tbody tr th:only-of-type {\n",
       "        vertical-align: middle;\n",
       "    }\n",
       "\n",
       "    .dataframe tbody tr th {\n",
       "        vertical-align: top;\n",
       "    }\n",
       "\n",
       "    .dataframe thead th {\n",
       "        text-align: right;\n",
       "    }\n",
       "</style>\n",
       "<table border=\"1\" class=\"dataframe\">\n",
       "  <thead>\n",
       "    <tr style=\"text-align: right;\">\n",
       "      <th></th>\n",
       "      <th>Make</th>\n",
       "      <th>Model</th>\n",
       "      <th>Year</th>\n",
       "      <th>Engine Fuel Type</th>\n",
       "      <th>Engine HP</th>\n",
       "      <th>Engine Cylinders</th>\n",
       "      <th>Transmission Type</th>\n",
       "      <th>Driven_Wheels</th>\n",
       "      <th>Number of Doors</th>\n",
       "      <th>Market Category</th>\n",
       "      <th>Vehicle Size</th>\n",
       "      <th>Vehicle Style</th>\n",
       "      <th>highway MPG</th>\n",
       "      <th>city mpg</th>\n",
       "      <th>Popularity</th>\n",
       "      <th>MSRP</th>\n",
       "    </tr>\n",
       "  </thead>\n",
       "  <tbody>\n",
       "    <tr>\n",
       "      <th>966</th>\n",
       "      <td>Porsche</td>\n",
       "      <td>911</td>\n",
       "      <td>2017</td>\n",
       "      <td>premium unleaded (required)</td>\n",
       "      <td>580.0</td>\n",
       "      <td>6.0</td>\n",
       "      <td>AUTOMATED_MANUAL</td>\n",
       "      <td>all wheel drive</td>\n",
       "      <td>2.0</td>\n",
       "      <td>Luxury,High-Performance</td>\n",
       "      <td>Compact</td>\n",
       "      <td>Convertible</td>\n",
       "      <td>28</td>\n",
       "      <td>20</td>\n",
       "      <td>1715</td>\n",
       "      <td>200400</td>\n",
       "    </tr>\n",
       "    <tr>\n",
       "      <th>2865</th>\n",
       "      <td>Bentley</td>\n",
       "      <td>Continental GT</td>\n",
       "      <td>2015</td>\n",
       "      <td>premium unleaded (required)</td>\n",
       "      <td>521.0</td>\n",
       "      <td>8.0</td>\n",
       "      <td>AUTOMATIC</td>\n",
       "      <td>all wheel drive</td>\n",
       "      <td>2.0</td>\n",
       "      <td>Exotic,Factory Tuner,Luxury,High-Performance</td>\n",
       "      <td>Midsize</td>\n",
       "      <td>Convertible</td>\n",
       "      <td>24</td>\n",
       "      <td>14</td>\n",
       "      <td>520</td>\n",
       "      <td>219400</td>\n",
       "    </tr>\n",
       "    <tr>\n",
       "      <th>3750</th>\n",
       "      <td>Ford</td>\n",
       "      <td>E-Series Wagon</td>\n",
       "      <td>2014</td>\n",
       "      <td>flex-fuel (unleaded/E85)</td>\n",
       "      <td>225.0</td>\n",
       "      <td>8.0</td>\n",
       "      <td>AUTOMATIC</td>\n",
       "      <td>rear wheel drive</td>\n",
       "      <td>3.0</td>\n",
       "      <td>Flex Fuel</td>\n",
       "      <td>Midsize</td>\n",
       "      <td>Passenger Van</td>\n",
       "      <td>16</td>\n",
       "      <td>13</td>\n",
       "      <td>5657</td>\n",
       "      <td>32675</td>\n",
       "    </tr>\n",
       "    <tr>\n",
       "      <th>7979</th>\n",
       "      <td>Audi</td>\n",
       "      <td>R8</td>\n",
       "      <td>2015</td>\n",
       "      <td>premium unleaded (required)</td>\n",
       "      <td>430.0</td>\n",
       "      <td>8.0</td>\n",
       "      <td>AUTOMATED_MANUAL</td>\n",
       "      <td>all wheel drive</td>\n",
       "      <td>2.0</td>\n",
       "      <td>Luxury,High-Performance</td>\n",
       "      <td>Compact</td>\n",
       "      <td>Convertible</td>\n",
       "      <td>23</td>\n",
       "      <td>14</td>\n",
       "      <td>3105</td>\n",
       "      <td>138400</td>\n",
       "    </tr>\n",
       "    <tr>\n",
       "      <th>5420</th>\n",
       "      <td>Volkswagen</td>\n",
       "      <td>Golf R</td>\n",
       "      <td>2017</td>\n",
       "      <td>premium unleaded (recommended)</td>\n",
       "      <td>292.0</td>\n",
       "      <td>4.0</td>\n",
       "      <td>AUTOMATED_MANUAL</td>\n",
       "      <td>all wheel drive</td>\n",
       "      <td>4.0</td>\n",
       "      <td>Hatchback,Factory Tuner,High-Performance</td>\n",
       "      <td>Compact</td>\n",
       "      <td>4dr Hatchback</td>\n",
       "      <td>30</td>\n",
       "      <td>23</td>\n",
       "      <td>873</td>\n",
       "      <td>36755</td>\n",
       "    </tr>\n",
       "  </tbody>\n",
       "</table>\n",
       "</div>"
      ],
      "text/plain": [
       "            Make           Model  Year                Engine Fuel Type  \\\n",
       "966      Porsche             911  2017     premium unleaded (required)   \n",
       "2865     Bentley  Continental GT  2015     premium unleaded (required)   \n",
       "3750        Ford  E-Series Wagon  2014        flex-fuel (unleaded/E85)   \n",
       "7979        Audi              R8  2015     premium unleaded (required)   \n",
       "5420  Volkswagen          Golf R  2017  premium unleaded (recommended)   \n",
       "\n",
       "      Engine HP  Engine Cylinders Transmission Type     Driven_Wheels  \\\n",
       "966       580.0               6.0  AUTOMATED_MANUAL   all wheel drive   \n",
       "2865      521.0               8.0         AUTOMATIC   all wheel drive   \n",
       "3750      225.0               8.0         AUTOMATIC  rear wheel drive   \n",
       "7979      430.0               8.0  AUTOMATED_MANUAL   all wheel drive   \n",
       "5420      292.0               4.0  AUTOMATED_MANUAL   all wheel drive   \n",
       "\n",
       "      Number of Doors                               Market Category  \\\n",
       "966               2.0                       Luxury,High-Performance   \n",
       "2865              2.0  Exotic,Factory Tuner,Luxury,High-Performance   \n",
       "3750              3.0                                     Flex Fuel   \n",
       "7979              2.0                       Luxury,High-Performance   \n",
       "5420              4.0      Hatchback,Factory Tuner,High-Performance   \n",
       "\n",
       "     Vehicle Size  Vehicle Style  highway MPG  city mpg  Popularity    MSRP  \n",
       "966       Compact    Convertible           28        20        1715  200400  \n",
       "2865      Midsize    Convertible           24        14         520  219400  \n",
       "3750      Midsize  Passenger Van           16        13        5657   32675  \n",
       "7979      Compact    Convertible           23        14        3105  138400  \n",
       "5420      Compact  4dr Hatchback           30        23         873   36755  "
      ]
     },
     "execution_count": 8,
     "metadata": {},
     "output_type": "execute_result"
    }
   ],
   "source": [
    "import pandas as pd\n",
    "import numpy as np\n",
    "import matplotlib.pyplot as plt\n",
    "from sklearn.model_selection import train_test_split\n",
    "from sklearn.linear_model import LinearRegression\n",
    "from sklearn.metrics import r2_score,mean_squared_error\n",
    "%matplotlib inline\n",
    "\n",
    "df = pd.read_csv('data.csv') # Importing the dataset\n",
    "df.sample(5) #previewing dataset randomly"
   ]
  },
  {
   "cell_type": "code",
   "execution_count": 9,
   "id": "a6f08a83",
   "metadata": {},
   "outputs": [
    {
     "name": "stdout",
     "output_type": "stream",
     "text": [
      "(11914, 16)\n",
      "Chevrolet        1123\n",
      "Ford              881\n",
      "Volkswagen        809\n",
      "Toyota            746\n",
      "Dodge             626\n",
      "Nissan            558\n",
      "GMC               515\n",
      "Honda             449\n",
      "Mazda             423\n",
      "Cadillac          397\n",
      "Mercedes-Benz     353\n",
      "Suzuki            351\n",
      "BMW               334\n",
      "Infiniti          330\n",
      "Audi              328\n",
      "Hyundai           303\n",
      "Volvo             281\n",
      "Subaru            256\n",
      "Acura             252\n",
      "Kia               231\n",
      "Mitsubishi        213\n",
      "Lexus             202\n",
      "Buick             196\n",
      "Chrysler          187\n",
      "Pontiac           186\n",
      "Lincoln           164\n",
      "Oldsmobile        150\n",
      "Land Rover        143\n",
      "Porsche           136\n",
      "Saab              111\n",
      "Aston Martin       93\n",
      "Plymouth           82\n",
      "Bentley            74\n",
      "Ferrari            69\n",
      "FIAT               62\n",
      "Scion              60\n",
      "Maserati           58\n",
      "Lamborghini        52\n",
      "Rolls-Royce        31\n",
      "Lotus              29\n",
      "Tesla              18\n",
      "HUMMER             17\n",
      "Maybach            16\n",
      "Alfa Romeo          5\n",
      "McLaren             5\n",
      "Spyker              3\n",
      "Genesis             3\n",
      "Bugatti             3\n",
      "Name: Make, dtype: int64\n"
     ]
    }
   ],
   "source": [
    "print(df.shape) # view the dataset shape\n",
    "print(df['Make'].value_counts()) # viewing Car companies with their cars number"
   ]
  },
  {
   "cell_type": "code",
   "execution_count": 10,
   "id": "c81e31dd",
   "metadata": {},
   "outputs": [
    {
     "name": "stdout",
     "output_type": "stream",
     "text": [
      "(809, 16)\n",
      "Make                   0\n",
      "Model                  0\n",
      "Year                   0\n",
      "Engine Fuel Type       0\n",
      "Engine HP              0\n",
      "Engine Cylinders       4\n",
      "Transmission Type      0\n",
      "Driven_Wheels          0\n",
      "Number of Doors        0\n",
      "Market Category      224\n",
      "Vehicle Size           0\n",
      "Vehicle Style          0\n",
      "highway MPG            0\n",
      "city mpg               0\n",
      "Popularity             0\n",
      "MSRP                   0\n",
      "dtype: int64\n",
      "(581, 16)\n",
      "Make                 0\n",
      "Model                0\n",
      "Year                 0\n",
      "Engine Fuel Type     0\n",
      "Engine HP            0\n",
      "Engine Cylinders     0\n",
      "Transmission Type    0\n",
      "Driven_Wheels        0\n",
      "Number of Doors      0\n",
      "Market Category      0\n",
      "Vehicle Size         0\n",
      "Vehicle Style        0\n",
      "highway MPG          0\n",
      "city mpg             0\n",
      "Popularity           0\n",
      "MSRP                 0\n",
      "dtype: int64\n"
     ]
    },
    {
     "data": {
      "text/html": [
       "<div>\n",
       "<style scoped>\n",
       "    .dataframe tbody tr th:only-of-type {\n",
       "        vertical-align: middle;\n",
       "    }\n",
       "\n",
       "    .dataframe tbody tr th {\n",
       "        vertical-align: top;\n",
       "    }\n",
       "\n",
       "    .dataframe thead th {\n",
       "        text-align: right;\n",
       "    }\n",
       "</style>\n",
       "<table border=\"1\" class=\"dataframe\">\n",
       "  <thead>\n",
       "    <tr style=\"text-align: right;\">\n",
       "      <th></th>\n",
       "      <th>Make</th>\n",
       "      <th>Model</th>\n",
       "      <th>Year</th>\n",
       "      <th>Engine Fuel Type</th>\n",
       "      <th>Engine HP</th>\n",
       "      <th>Engine Cylinders</th>\n",
       "      <th>Transmission Type</th>\n",
       "      <th>Driven_Wheels</th>\n",
       "      <th>Number of Doors</th>\n",
       "      <th>Market Category</th>\n",
       "      <th>Vehicle Size</th>\n",
       "      <th>Vehicle Style</th>\n",
       "      <th>highway MPG</th>\n",
       "      <th>city mpg</th>\n",
       "      <th>Popularity</th>\n",
       "      <th>MSRP</th>\n",
       "    </tr>\n",
       "  </thead>\n",
       "  <tbody>\n",
       "    <tr>\n",
       "      <th>8007</th>\n",
       "      <td>Volkswagen</td>\n",
       "      <td>Rabbit</td>\n",
       "      <td>2008</td>\n",
       "      <td>regular unleaded</td>\n",
       "      <td>170.0</td>\n",
       "      <td>5.0</td>\n",
       "      <td>MANUAL</td>\n",
       "      <td>front wheel drive</td>\n",
       "      <td>4.0</td>\n",
       "      <td>Hatchback</td>\n",
       "      <td>Compact</td>\n",
       "      <td>4dr Hatchback</td>\n",
       "      <td>29</td>\n",
       "      <td>22</td>\n",
       "      <td>873</td>\n",
       "      <td>17575</td>\n",
       "    </tr>\n",
       "    <tr>\n",
       "      <th>1938</th>\n",
       "      <td>Volkswagen</td>\n",
       "      <td>Beetle</td>\n",
       "      <td>2016</td>\n",
       "      <td>premium unleaded (recommended)</td>\n",
       "      <td>210.0</td>\n",
       "      <td>4.0</td>\n",
       "      <td>MANUAL</td>\n",
       "      <td>front wheel drive</td>\n",
       "      <td>2.0</td>\n",
       "      <td>Hatchback,Performance</td>\n",
       "      <td>Compact</td>\n",
       "      <td>2dr Hatchback</td>\n",
       "      <td>31</td>\n",
       "      <td>23</td>\n",
       "      <td>873</td>\n",
       "      <td>31450</td>\n",
       "    </tr>\n",
       "  </tbody>\n",
       "</table>\n",
       "</div>"
      ],
      "text/plain": [
       "            Make   Model  Year                Engine Fuel Type  Engine HP  \\\n",
       "8007  Volkswagen  Rabbit  2008                regular unleaded      170.0   \n",
       "1938  Volkswagen  Beetle  2016  premium unleaded (recommended)      210.0   \n",
       "\n",
       "      Engine Cylinders Transmission Type      Driven_Wheels  Number of Doors  \\\n",
       "8007               5.0            MANUAL  front wheel drive              4.0   \n",
       "1938               4.0            MANUAL  front wheel drive              2.0   \n",
       "\n",
       "            Market Category Vehicle Size  Vehicle Style  highway MPG  \\\n",
       "8007              Hatchback      Compact  4dr Hatchback           29   \n",
       "1938  Hatchback,Performance      Compact  2dr Hatchback           31   \n",
       "\n",
       "      city mpg  Popularity   MSRP  \n",
       "8007        22         873  17575  \n",
       "1938        23         873  31450  "
      ]
     },
     "execution_count": 10,
     "metadata": {},
     "output_type": "execute_result"
    }
   ],
   "source": [
    "new_df = df[df['Make']=='Volkswagen'] # in this new dataset we only take 'Volkswagen' Cars\n",
    "print(new_df.shape) # Viewing the new dataset shape\n",
    "print(new_df.isnull().sum()) # Is there any Null or Empty cell presents\n",
    "new_df = new_df.dropna() # Deleting the rows which have Empty cells\n",
    "print(new_df.shape) # After deletion Vewing the shape\n",
    "print(new_df.isnull().sum()) #Is there any Null or Empty cell presents\n",
    "new_df.sample(2) # Checking the random dataset sample"
   ]
  },
  {
   "cell_type": "code",
   "execution_count": 11,
   "id": "d92ebc91",
   "metadata": {},
   "outputs": [
    {
     "data": {
      "text/html": [
       "<div>\n",
       "<style scoped>\n",
       "    .dataframe tbody tr th:only-of-type {\n",
       "        vertical-align: middle;\n",
       "    }\n",
       "\n",
       "    .dataframe tbody tr th {\n",
       "        vertical-align: top;\n",
       "    }\n",
       "\n",
       "    .dataframe thead th {\n",
       "        text-align: right;\n",
       "    }\n",
       "</style>\n",
       "<table border=\"1\" class=\"dataframe\">\n",
       "  <thead>\n",
       "    <tr style=\"text-align: right;\">\n",
       "      <th></th>\n",
       "      <th>Engine HP</th>\n",
       "      <th>MSRP</th>\n",
       "    </tr>\n",
       "  </thead>\n",
       "  <tbody>\n",
       "    <tr>\n",
       "      <th>5660</th>\n",
       "      <td>200.0</td>\n",
       "      <td>29295</td>\n",
       "    </tr>\n",
       "    <tr>\n",
       "      <th>7217</th>\n",
       "      <td>150.0</td>\n",
       "      <td>19790</td>\n",
       "    </tr>\n",
       "    <tr>\n",
       "      <th>5417</th>\n",
       "      <td>292.0</td>\n",
       "      <td>38995</td>\n",
       "    </tr>\n",
       "    <tr>\n",
       "      <th>10426</th>\n",
       "      <td>200.0</td>\n",
       "      <td>34580</td>\n",
       "    </tr>\n",
       "    <tr>\n",
       "      <th>5635</th>\n",
       "      <td>200.0</td>\n",
       "      <td>27975</td>\n",
       "    </tr>\n",
       "  </tbody>\n",
       "</table>\n",
       "</div>"
      ],
      "text/plain": [
       "       Engine HP   MSRP\n",
       "5660       200.0  29295\n",
       "7217       150.0  19790\n",
       "5417       292.0  38995\n",
       "10426      200.0  34580\n",
       "5635       200.0  27975"
      ]
     },
     "execution_count": 11,
     "metadata": {},
     "output_type": "execute_result"
    }
   ],
   "source": [
    "new_df = new_df[['Engine HP','MSRP']] # We only take the 'Engine HP' and 'MSRP' columns\n",
    "new_df.sample(5) # Checking the random dataset sample"
   ]
  },
  {
   "cell_type": "code",
   "execution_count": 12,
   "id": "94544e06",
   "metadata": {},
   "outputs": [
    {
     "name": "stdout",
     "output_type": "stream",
     "text": [
      "(581, 1)\n",
      "(581, 1)\n"
     ]
    }
   ],
   "source": [
    "X = np.array(new_df[['Engine HP']]) # Storing into X the 'Engine HP' as np.array\n",
    "y = np.array(new_df[['MSRP']]) # Storing into y the 'MSRP' as np.array\n",
    "print(X.shape) # Vewing the shape of X\n",
    "print(y.shape) # Vewing the shape of y"
   ]
  },
  {
   "cell_type": "code",
   "execution_count": 13,
   "id": "a985e5aa",
   "metadata": {},
   "outputs": [
    {
     "data": {
      "image/png": "[encoded data removed]",
      "text/plain": [
       "<Figure size 432x288 with 1 Axes>"
      ]
     },
     "metadata": {
      "needs_background": "light"
     },
     "output_type": "display_data"
    }
   ],
   "source": [
    "plt.scatter(X,y,color=\"red\") # Plot a graph X vs y\n",
    "plt.title('HP vs MSRP')\n",
    "plt.xlabel('HP')\n",
    "plt.ylabel('MSRP')\n",
    "plt.show()"
   ]
  },
  {
   "cell_type": "code",
   "execution_count": 14,
   "id": "545c10fd",
   "metadata": {},
   "outputs": [
    {
     "data": {
      "text/plain": [
       "LinearRegression()"
      ]
     },
     "execution_count": 14,
     "metadata": {},
     "output_type": "execute_result"
    }
   ],
   "source": [
    "X_train,X_test,y_train,y_test = train_test_split(X,y,test_size = 0.25,random_state=15) # Spliting into train & test dataset\n",
    "regressor = LinearRegression() # Creating a regressior\n",
    "regressor.fit(X_train,y_train) # Fiting the dataset into the model"
   ]
  },
  {
   "cell_type": "code",
   "execution_count": 15,
   "id": "3c668ac3",
   "metadata": {},
   "outputs": [
    {
     "data": {
      "image/png": "[encoded data removed]",
      "text/plain": [
       "<Figure size 432x288 with 1 Axes>"
      ]
     },
     "metadata": {
      "needs_background": "light"
     },
     "output_type": "display_data"
    }
   ],
   "source": [
    "plt.scatter(X_test,y_test,color=\"green\") # Plot a graph with X_test vs y_test\n",
    "plt.plot(X_train,regressor.predict(X_train),color=\"red\",linewidth=3) # Regressior line showing\n",
    "plt.title('Regression(Test Set)')\n",
    "plt.xlabel('HP')\n",
    "plt.ylabel('MSRP')\n",
    "plt.show()"
   ]
  },
  {
   "cell_type": "code",
   "execution_count": 16,
   "id": "8e2ed46a",
   "metadata": {},
   "outputs": [
    {
     "data": {
      "image/png": "[encoded data removed]",
      "text/plain": [
       "<Figure size 432x288 with 1 Axes>"
      ]
     },
     "metadata": {
      "needs_background": "light"
     },
     "output_type": "display_data"
    }
   ],
   "source": [
    "plt.scatter(X_train,y_train,color=\"blue\")  # Plot a graph with X_train vs y_train\n",
    "plt.plot(X_train,regressor.predict(X_train),color=\"red\",linewidth=3) # Regressior line showing\n",
    "plt.title('Regression(training Set)')\n",
    "plt.xlabel('HP')\n",
    "plt.ylabel('MSRP')\n",
    "plt.show()"
   ]
  },
  {
   "cell_type": "code",
   "execution_count": 17,
   "id": "027bc321",
   "metadata": {},
   "outputs": [
    {
     "name": "stdout",
     "output_type": "stream",
     "text": [
      "R2 score: 0.73\n",
      "Mean squared Error : 55796476.511791624\n"
     ]
    }
   ],
   "source": [
    "y_pred = regressor.predict(X_test)\n",
    "print('R2 score: %.2f' % r2_score(y_test,y_pred)) # Priniting R2 Score\n",
    "print('Mean squared Error :',mean_squared_error(y_test,y_pred)) # Priniting the mean error"
   ]
  },
  {
   "cell_type": "code",
   "execution_count": 18,
   "id": "0c5318f4",
   "metadata": {},
   "outputs": [
    {
     "name": "stdout",
     "output_type": "stream",
     "text": [
      "Enter Volkswagen cars Horse Power : 220\n",
      "This Volkswagen Prce will be :  2259543 ₹\n"
     ]
    }
   ],
   "source": [
    "def car_price(hp): # A function to predict the price according to Horsepower\n",
    "    result = regressor.predict(np.array(hp).reshape(1, -1))\n",
    "    return(result[0,0])\n",
    "\n",
    "car_hp = int(input('Enter Volkswagen cars Horse Power : '))\n",
    "print('This Volkswagen Prce will be : ',int(car_price(car_hp))*69,'₹')"
   ]
  },
  {
   "cell_type": "code",
   "execution_count": null,
   "id": "22fb34b1",
   "metadata": {},
   "outputs": [],
   "source": []
  }
 ],
 "metadata": {
  "kernelspec": {
   "display_name": "Python 3",
   "language": "python",
   "name": "python3"
  },
  "language_info": {
   "codemirror_mode": {
    "name": "ipython",
    "version": 3
   },
   "file_extension": ".py",
   "mimetype": "text/x-python",
   "name": "python",
   "nbconvert_exporter": "python",
   "pygments_lexer": "ipython3",
   "version": "3.7.11"
  }
 },
 "nbformat": 4,
 "nbformat_minor": 5
}
